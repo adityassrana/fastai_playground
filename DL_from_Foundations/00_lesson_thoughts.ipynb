{
 "cells": [
  {
   "cell_type": "markdown",
   "metadata": {},
   "source": [
    "### Post IISc Interviews\n",
    "For multilabel classification, what if we train a neuron to predict how many classes it should be looking for, similar to x and y coordinates of bounding boxes"
   ]
  },
  {
   "cell_type": "markdown",
   "metadata": {},
   "source": [
    "### How to Appraoch fast.ai course\n",
    "Pick one good project and make it fantastic for the world to see. So many fast.ai alumni have reached Deepmind/OpenAI/Google with many less years of experieence just by doing the fast.ai course"
   ]
  },
  {
   "cell_type": "markdown",
   "metadata": {},
   "source": [
    "### OnePlus 1\n",
    "\n",
    "- Einstein summation notation, super easy to create batch wise matrix multiplications\n",
    "- studying effects of mean and variance of data and activations, tracking them properly\n",
    "- Callbacks need True to continue running and no return statement returns None which means False, hence they use so many if not statements\n",
    "- Callback false means stop, true means keep going\n",
    "- spend more time writing fast.ai code than watching lectures\n",
    "- Chossing a good LR for Adam does matter, AdamW (with weight decay) is the default optimizer in fasta.ai"
   ]
  },
  {
   "cell_type": "markdown",
   "metadata": {},
   "source": [
    "### OnePlus 2\n",
    "\n",
    "- Knowing how to work with your editor efficiently, Editors can do way more than we know\n",
    "- Softmax cannot be used for multi-label classification. For eg. when a dataset has more than one class in an image.\n",
    "- Is it a good idea to add a missing(No class) label? No, it doesn't work well. For example for this prediciton, the penultimate layer will need to have activations corresponding to not cat, not car, not dog, not building which is not possibe.\n",
    "- Softmax is really good for language modelling.\n",
    "- understanding closures and partial functions.\n",
    "\n",
    "### OnePlus 3\n",
    "\n",
    "- working with notebooks is a great experience for fast prototyping and for playing around with new ideas\n",
    "- scandir vs glob\n",
    "- exponentially weighted moving averages\n",
    "- significance of epsilon in BatchNorm and Adam Optimization\n",
    "- How to resize images properly, what is the correct way of doing so"
   ]
  },
  {
   "cell_type": "markdown",
   "metadata": {},
   "source": [
    "### OnePlus 4\n",
    "- Freezing all BatchNorm layers in a pretrained network or don't freeze any\n",
    "- When learning rate is high, momentum should be low\n",
    "- AdamW and how to do weight decay correctly\n",
    "- gradually annealing epsilon in Adam is very important in the last few epochs"
   ]
  },
  {
   "cell_type": "markdown",
   "metadata": {},
   "source": [
    "### Screenshots Ideas From Talks\n",
    "\n",
    "- "
   ]
  },
  {
   "cell_type": "markdown",
   "metadata": {},
   "source": [
    "OnePlus Backup Stuff\n",
    "\n",
    "- Logistic regression would require only one output node. It's a design choice and nothing major\n",
    "- Normalization before or after activation in BatchNorm. More often pre activation values are used, why is so?\n",
    "- Learning rate decay with Adam. Read Paper. At the end of the training when we get small gradients, denominators would be small and steps taken will become big. Also a momentum term in the numerator so do they balance out? \n",
    "- Expon. Weighted averages is truly an average because the coefficients sum up to 1. Can be implemented in one line of code. Keeping a moving window is much more computationally expensive, storage wise. Why do we do a bias correction, starting from zero instead of v1 = theta 1.\n",
    "- August 3 \n",
    "- Leetcode problems have a good comment section\n",
    "- Practising past year FB interview questions, look up and practice."
   ]
  },
  {
   "cell_type": "code",
   "execution_count": null,
   "metadata": {},
   "outputs": [],
   "source": []
  }
 ],
 "metadata": {
  "kernelspec": {
   "display_name": "Python 3",
   "language": "python",
   "name": "python3"
  },
  "language_info": {
   "codemirror_mode": {
    "name": "ipython",
    "version": 3
   },
   "file_extension": ".py",
   "mimetype": "text/x-python",
   "name": "python",
   "nbconvert_exporter": "python",
   "pygments_lexer": "ipython3",
   "version": "3.7.7"
  }
 },
 "nbformat": 4,
 "nbformat_minor": 4
}
